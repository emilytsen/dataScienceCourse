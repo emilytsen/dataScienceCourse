{
 "cells": [
  {
   "attachments": {},
   "cell_type": "markdown",
   "metadata": {},
   "source": [
    "IF -"
   ]
  },
  {
   "cell_type": "code",
   "execution_count": 3,
   "metadata": {},
   "outputs": [
    {
     "name": "stdout",
     "output_type": "stream",
     "text": [
      "olá\n"
     ]
    }
   ],
   "source": [
    "if 10 == 20 /2:\n",
    "    print(\"olá\")\n"
   ]
  },
  {
   "cell_type": "code",
   "execution_count": 7,
   "metadata": {},
   "outputs": [
    {
     "name": "stdout",
     "output_type": "stream",
     "text": [
      "olá\n"
     ]
    }
   ],
   "source": [
    "if 10 != 10 /2:\n",
    "    print(\"olá\")\n"
   ]
  },
  {
   "cell_type": "code",
   "execution_count": 14,
   "metadata": {},
   "outputs": [
    {
     "name": "stdout",
     "output_type": "stream",
     "text": [
      "1 é menor que 2\n"
     ]
    }
   ],
   "source": [
    "x = 1\n",
    "\n",
    "if x > 2:\n",
    "    print (x, \"é maior que 2\")\n",
    "if x < 2:\n",
    "    print (x, \"é menor que 2\")\n",
    "    \n",
    "    "
   ]
  },
  {
   "cell_type": "markdown",
   "metadata": {},
   "source": [
    "ELSE -"
   ]
  },
  {
   "cell_type": "code",
   "execution_count": 15,
   "metadata": {},
   "outputs": [
    {
     "name": "stdout",
     "output_type": "stream",
     "text": [
      "2 é menor ou igual que 2\n"
     ]
    }
   ],
   "source": [
    "x = 2\n",
    "\n",
    "if x > 2:\n",
    "    print (x, \"é maior que 2\")\n",
    "else:\n",
    "    print (x, \"é menor ou igual que 2\")\n",
    "  "
   ]
  },
  {
   "attachments": {},
   "cell_type": "markdown",
   "metadata": {},
   "source": [
    "ELIF- "
   ]
  },
  {
   "cell_type": "code",
   "execution_count": 19,
   "metadata": {},
   "outputs": [
    {
     "name": "stdout",
     "output_type": "stream",
     "text": [
      "2 é igual a 2\n"
     ]
    }
   ],
   "source": [
    "x = 2\n",
    "\n",
    "if x > 2:\n",
    "    print (x, \"é maior que 2\")\n",
    "elif x < 2:\n",
    "    print (x, \"é menor que 2\")\n",
    "else:\n",
    "    print (x, \"é igual a 2\")\n",
    "  "
   ]
  },
  {
   "cell_type": "code",
   "execution_count": 3,
   "metadata": {},
   "outputs": [],
   "source": [
    "def compara_com_2(x):\n",
    "    if x > 2:\n",
    "        print (x, \"é maior que 2\")\n",
    "    elif x < 2:\n",
    "        print (x, \"é menor que 2\")\n",
    "    elif x < 0:\n",
    "        print(x, \"é negativo\")\n",
    "    else:\n",
    "        print (x, \"é igual a 2\")\n"
   ]
  },
  {
   "cell_type": "code",
   "execution_count": 4,
   "metadata": {},
   "outputs": [
    {
     "name": "stdout",
     "output_type": "stream",
     "text": [
      "-3 é menor que 2\n",
      "None\n"
     ]
    }
   ],
   "source": [
    "print(compara_com_2(-3))\n",
    "#vai printar \"é menor que 2\", pois é a linha de comando que vem primeiro."
   ]
  },
  {
   "cell_type": "code",
   "execution_count": 5,
   "metadata": {},
   "outputs": [
    {
     "name": "stdout",
     "output_type": "stream",
     "text": [
      "3 é maior que 2\n",
      "None\n"
     ]
    }
   ],
   "source": [
    "print(compara_com_2(3))"
   ]
  },
  {
   "cell_type": "code",
   "execution_count": null,
   "metadata": {},
   "outputs": [],
   "source": []
  }
 ],
 "metadata": {
  "kernelspec": {
   "display_name": "Python 3",
   "language": "python",
   "name": "python3"
  },
  "language_info": {
   "codemirror_mode": {
    "name": "ipython",
    "version": 3
   },
   "file_extension": ".py",
   "mimetype": "text/x-python",
   "name": "python",
   "nbconvert_exporter": "python",
   "pygments_lexer": "ipython3",
   "version": "3.11.2"
  },
  "orig_nbformat": 4,
  "vscode": {
   "interpreter": {
    "hash": "b60b261a6bf4a30a39b33b3855fca992defa0647c659f73209fbea23372718e4"
   }
  }
 },
 "nbformat": 4,
 "nbformat_minor": 2
}
